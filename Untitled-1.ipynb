{
 "cells": [
  {
   "cell_type": "code",
   "execution_count": 1,
   "metadata": {},
   "outputs": [
    {
     "name": "stdout",
     "output_type": "stream",
     "text": [
      "Scripting way of Printing: hello World\n",
      "Inside method message: Hello world\n",
      "Object oriented way of printing: Hello world\n"
     ]
    }
   ],
   "source": [
    "\n",
    "#Scripting way for Writing the code:\n",
    "print('Scripting way of Printing: hello World')\n",
    "\n",
    "\n",
    "#Procedural way of writing the code\n",
    "def message():\n",
    "    print('Inside method message: Hello world')\n",
    "message()\n",
    "\n",
    "#Object Oriented way of Writing the code:\n",
    "class Demo:\n",
    "    def instance_method(self):\n",
    "        print('Object oriented way of printing: Hello world')\n",
    "d1 = Demo() \n",
    "d1.instance_method()"
   ]
  }
 ],
 "metadata": {
  "kernelspec": {
   "display_name": "Python 3",
   "language": "python",
   "name": "python3"
  },
  "language_info": {
   "codemirror_mode": {
    "name": "ipython",
    "version": 3
   },
   "file_extension": ".py",
   "mimetype": "text/x-python",
   "name": "python",
   "nbconvert_exporter": "python",
   "pygments_lexer": "ipython3",
   "version": "3.9.11"
  }
 },
 "nbformat": 4,
 "nbformat_minor": 2
}

