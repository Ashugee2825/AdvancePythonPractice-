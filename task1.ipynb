{
  "nbformat": 4,
  "nbformat_minor": 0,
  "metadata": {
    "colab": {
      "provenance": [],
      "authorship_tag": "ABX9TyPFkgDX7mD7PzNrMKBet4V5",
      "include_colab_link": true
    },
    "kernelspec": {
      "name": "python3",
      "display_name": "Python 3"
    },
    "language_info": {
      "name": "python"
    }
  },
  "cells": [
    {
      "cell_type": "markdown",
      "metadata": {
        "id": "view-in-github",
        "colab_type": "text"
      },
      "source": [
        "<a href=\"https://colab.research.google.com/github/Ashugee2825/AdvancePythonPractice-/blob/main/task1.ipynb\" target=\"_parent\"><img src=\"https://colab.research.google.com/assets/colab-badge.svg\" alt=\"Open In Colab\"/></a>"
      ]
    },
    {
      "cell_type": "code",
      "execution_count": null,
      "metadata": {
        "colab": {
          "base_uri": "https://localhost:8080/",
          "height": 106
        },
        "id": "pfaG1Iou4Tes",
        "outputId": "99183ea3-1b32-4f2f-8707-202f897b6a1b"
      },
      "outputs": [
        {
          "output_type": "error",
          "ename": "SyntaxError",
          "evalue": "invalid syntax (<ipython-input-3-5ea2116658b8>, line 7)",
          "traceback": [
            "\u001b[0;36m  File \u001b[0;32m\"<ipython-input-3-5ea2116658b8>\"\u001b[0;36m, line \u001b[0;32m7\u001b[0m\n\u001b[0;31m    xls = pd.ExcelFile(/content/DA - Task 1..xlsx)\u001b[0m\n\u001b[0m                       ^\u001b[0m\n\u001b[0;31mSyntaxError\u001b[0m\u001b[0;31m:\u001b[0m invalid syntax\n"
          ]
        }
      ],
      "source": [
        "import pandas as pd\n",
        "\n",
        "# Define the file path\n",
        "file_path = \"/content/DA - Task 1..xlsx\"\n",
        "\n",
        "# Load the Excel file\n",
        "xls = pd.ExcelFile(/content/DA - Task 1..xlsx)\n",
        "\n",
        "# Check sheet names to understand the structure\n",
        "xls.sheet_names\n"
      ]
    },
    {
      "cell_type": "code",
      "source": [
        "# Load the Task sheet\n",
        "task_df = pd.read_excel(xls, DA - Task 1=\"Task\")\n",
        "\n",
        "# Load the Taxonomy sheet\n",
        "taxonomy_df = pd.read_excel(xls, DA - Task 1=\"Taxonomy\")\n",
        "\n",
        "# Display the first few rows of each sheet\n",
        "task_df.head(), taxonomy_df.head()\n"
      ],
      "metadata": {
        "colab": {
          "base_uri": "https://localhost:8080/",
          "height": 106
        },
        "id": "RjQMTMMG4kc4",
        "outputId": "e58d7fe2-42c0-4814-854e-fb866afae2d4"
      },
      "execution_count": null,
      "outputs": [
        {
          "output_type": "error",
          "ename": "SyntaxError",
          "evalue": "invalid syntax. Perhaps you forgot a comma? (<ipython-input-4-fa0c5c259f49>, line 2)",
          "traceback": [
            "\u001b[0;36m  File \u001b[0;32m\"<ipython-input-4-fa0c5c259f49>\"\u001b[0;36m, line \u001b[0;32m2\u001b[0m\n\u001b[0;31m    task_df = pd.read_excel(xls, DA - Task 1=\"Task\")\u001b[0m\n\u001b[0m                                 ^\u001b[0m\n\u001b[0;31mSyntaxError\u001b[0m\u001b[0;31m:\u001b[0m invalid syntax. Perhaps you forgot a comma?\n"
          ]
        }
      ]
    },
    {
      "cell_type": "code",
      "source": [
        "# Standardizing the taxonomy categories for easier mapping\n",
        "taxonomy_mappings = {\n",
        "    \"Root Cause\": taxonomy_df[\"Root Cause\"].dropna().unique().tolist(),\n",
        "    \"Symptom Condition\": taxonomy_df[\"Symptom Condition\"].dropna().unique().tolist(),\n",
        "    \"Symptom Component\": taxonomy_df[\"Symptom Component\"].dropna().unique().tolist(),\n",
        "    \"Fix Condition\": taxonomy_df[\"Fix Condition\"].dropna().unique().tolist(),\n",
        "    \"Fix Component\": taxonomy_df[\"Fix Component\"].dropna().unique().tolist(),\n",
        "}\n",
        "\n",
        "# Function to match text with predefined taxonomy categories\n",
        "def match_category(text, category_list):\n",
        "    if pd.isna(text) or text == \"Not Mentioned\":\n",
        "        return None\n",
        "    for category in category_list:\n",
        "        if category.lower() in text.lower():\n",
        "            return category\n",
        "    return None\n",
        "\n",
        "# Apply mapping to fill missing values\n",
        "for col, category_list in taxonomy_mappings.items():\n",
        "    task_df[col] = task_df[col].fillna(task_df[\"Cause\"].apply(lambda x: match_category(x, category_list)))\n",
        "\n",
        "# Display updated dataset with tagged values\n",
        "task_df.head()\n"
      ],
      "metadata": {
        "id": "1FCfiZKl5lDg"
      },
      "execution_count": null,
      "outputs": []
    },
    {
      "cell_type": "code",
      "source": [
        "# Display the exact column names in the Taxonomy sheet\n",
        "taxonomy_df.columns\n"
      ],
      "metadata": {
        "id": "kDZsLPof5yH9"
      },
      "execution_count": null,
      "outputs": []
    },
    {
      "cell_type": "code",
      "source": [
        "# Clean column names by stripping extra spaces\n",
        "taxonomy_df.columns = taxonomy_df.columns.str.strip()\n",
        "\n",
        "# Recreate the taxonomy mappings\n",
        "taxonomy_mappings = {\n",
        "    \"Root Cause\": taxonomy_df[\"Root Cause\"].dropna().unique().tolist(),\n",
        "    \"Symptom Condition\": taxonomy_df[\"Symptom Condition\"].dropna().unique().tolist(),\n",
        "    \"Symptom Component\": taxonomy_df[\"Symptom Component\"].dropna().unique().tolist(),\n",
        "    \"Fix Condition\": taxonomy_df[\"Fix Condition\"].dropna().unique().tolist(),\n",
        "    \"Fix Component\": taxonomy_df[\"Fix Component\"].dropna().unique().tolist(),\n",
        "}\n",
        "\n",
        "# Reapply the mapping logic\n",
        "for col, category_list in taxonomy_mappings.items():\n",
        "    task_df[col] = task_df[col].fillna(task_df[\"Cause\"].apply(lambda x: match_category(x, category_list)))\n",
        "\n",
        "# Display updated dataset with tagged values\n",
        "task_df.head()\n"
      ],
      "metadata": {
        "id": "Anz3kCoY50HR"
      },
      "execution_count": null,
      "outputs": []
    },
    {
      "cell_type": "code",
      "source": [
        "# Redefine the function to match text with predefined taxonomy categories\n",
        "def match_category(text, category_list):\n",
        "    if pd.isna(text) or text == \"Not Mentioned\":\n",
        "        return None\n",
        "    for category in category_list:\n",
        "        if category.lower() in text.lower():\n",
        "            return category\n",
        "    return None\n",
        "\n",
        "# Reapply the mapping logic\n",
        "for col, category_list in taxonomy_mappings.items():\n",
        "    task_df[col] = task_df[col].fillna(task_df[\"Cause\"].apply(lambda x: match_category(x, category_list)))\n",
        "\n",
        "# Display updated dataset with tagged values\n",
        "task_df.head()\n"
      ],
      "metadata": {
        "id": "ppj185VB517-"
      },
      "execution_count": null,
      "outputs": []
    },
    {
      "cell_type": "code",
      "source": [
        "# Display the exact column names in the Task sheet\n",
        "task_df.columns\n"
      ],
      "metadata": {
        "id": "VaZ330MP53sH"
      },
      "execution_count": null,
      "outputs": []
    },
    {
      "cell_type": "code",
      "source": [
        "# Adjusting the column names to match the Task sheet\n",
        "task_columns_mapping = {\n",
        "    \"Root Cause\": \"Root Cause\",\n",
        "    \"Symptom Condition\": [\"Symptom Condition 1\", \"Symptom Condition 2\", \"Symptom Condition 3\"],\n",
        "    \"Symptom Component\": [\"Symptom Component 1\", \"Symptom Component 2\", \"Symptom Component 3\"],\n",
        "    \"Fix Condition\": [\"Fix Condition 1\", \"Fix Condition 2\", \"Fix Condition 3\"],\n",
        "    \"Fix Component\": [\"Fix Component 1\", \"Fix Component 2\", \"Fix Component 3\"],\n",
        "}\n",
        "\n",
        "# Apply mapping for Root Cause separately since it's a single field\n",
        "task_df[\"Root Cause\"] = task_df[\"Root Cause\"].fillna(task_df[\"Cause\"].apply(lambda x: match_category(x, taxonomy_mappings[\"Root Cause\"])))\n",
        "\n",
        "# Apply mapping for multiple symptom conditions, components, fix conditions, and fix components\n",
        "for key, columns in task_columns_mapping.items():\n",
        "    if key != \"Root Cause\":\n",
        "        for col in columns:\n",
        "            task_df[col] = task_df[col].fillna(task_df[\"Cause\"].apply(lambda x: match_category(x, taxonomy_mappings[key])))\n",
        "\n",
        "# Display updated dataset with tagged values\n",
        "task_df.head()\n"
      ],
      "metadata": {
        "id": "NaxLEjO_56oN"
      },
      "execution_count": null,
      "outputs": []
    },
    {
      "cell_type": "code",
      "source": [
        "# Define the output file path\n",
        "output_file_path = \"/mnt/data/Tagged_Dataset.xlsx\"\n",
        "\n",
        "# Save the updated dataset to an Excel file\n",
        "task_df.to_excel(output_file_path, index=False)\n",
        "\n",
        "# Provide the download link\n",
        "output_file_path\n"
      ],
      "metadata": {
        "id": "F4-oP8wF59PR"
      },
      "execution_count": null,
      "outputs": []
    }
  ]
}